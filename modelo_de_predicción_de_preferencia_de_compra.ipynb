{
 "cells": [
  {
   "cell_type": "markdown",
   "metadata": {},
   "source": [
    "## Introducción"
   ]
  },
  {
   "cell_type": "markdown",
   "metadata": {},
   "source": [
    "La compañía móvil Megaline no está satisfecha al ver que muchos de sus clientes utilizan planes heredados. Quieren desarrollar un modelo que pueda analizar el comportamiento de los clientes y recomendar uno de los nuevos planes de Megaline: Smart o Ultra.\n",
    "\n",
    "Tienes acceso a los datos de comportamiento de los suscriptores que ya se han cambiado a los planes nuevos (del proyecto del sprint de Análisis estadístico de datos). Para esta tarea de clasificación debes crear un modelo que escoja el plan correcto. Como ya hiciste el paso de procesar los datos, puedes lanzarte directo a crear el modelo.\n",
    "\n",
    "Desarrolla un modelo con la mayor exactitud posible. En este proyecto, el umbral de exactitud es 0.75. Usa el dataset para comprobar la exactitud."
   ]
  },
  {
   "cell_type": "markdown",
   "metadata": {},
   "source": [
    "## Importar"
   ]
  },
  {
   "cell_type": "code",
   "execution_count": 1,
   "metadata": {},
   "outputs": [],
   "source": [
    "import pandas as pd\n",
    "from sklearn.ensemble import RandomForestClassifier\n",
    "from sklearn.model_selection import train_test_split\n",
    "from sklearn.tree import DecisionTreeClassifier"
   ]
  },
  {
   "cell_type": "markdown",
   "metadata": {},
   "source": [
    "## Leer los datos"
   ]
  },
  {
   "cell_type": "code",
   "execution_count": 4,
   "metadata": {
    "scrolled": false
   },
   "outputs": [
    {
     "data": {
      "text/html": [
       "<div>\n",
       "<style scoped>\n",
       "    .dataframe tbody tr th:only-of-type {\n",
       "        vertical-align: middle;\n",
       "    }\n",
       "\n",
       "    .dataframe tbody tr th {\n",
       "        vertical-align: top;\n",
       "    }\n",
       "\n",
       "    .dataframe thead th {\n",
       "        text-align: right;\n",
       "    }\n",
       "</style>\n",
       "<table border=\"1\" class=\"dataframe\">\n",
       "  <thead>\n",
       "    <tr style=\"text-align: right;\">\n",
       "      <th></th>\n",
       "      <th>calls</th>\n",
       "      <th>minutes</th>\n",
       "      <th>messages</th>\n",
       "      <th>mb_used</th>\n",
       "      <th>is_ultra</th>\n",
       "    </tr>\n",
       "  </thead>\n",
       "  <tbody>\n",
       "    <tr>\n",
       "      <th>0</th>\n",
       "      <td>40.0</td>\n",
       "      <td>311.90</td>\n",
       "      <td>83.0</td>\n",
       "      <td>19915.42</td>\n",
       "      <td>0</td>\n",
       "    </tr>\n",
       "    <tr>\n",
       "      <th>1</th>\n",
       "      <td>85.0</td>\n",
       "      <td>516.75</td>\n",
       "      <td>56.0</td>\n",
       "      <td>22696.96</td>\n",
       "      <td>0</td>\n",
       "    </tr>\n",
       "    <tr>\n",
       "      <th>2</th>\n",
       "      <td>77.0</td>\n",
       "      <td>467.66</td>\n",
       "      <td>86.0</td>\n",
       "      <td>21060.45</td>\n",
       "      <td>0</td>\n",
       "    </tr>\n",
       "    <tr>\n",
       "      <th>3</th>\n",
       "      <td>106.0</td>\n",
       "      <td>745.53</td>\n",
       "      <td>81.0</td>\n",
       "      <td>8437.39</td>\n",
       "      <td>1</td>\n",
       "    </tr>\n",
       "    <tr>\n",
       "      <th>4</th>\n",
       "      <td>66.0</td>\n",
       "      <td>418.74</td>\n",
       "      <td>1.0</td>\n",
       "      <td>14502.75</td>\n",
       "      <td>0</td>\n",
       "    </tr>\n",
       "    <tr>\n",
       "      <th>5</th>\n",
       "      <td>58.0</td>\n",
       "      <td>344.56</td>\n",
       "      <td>21.0</td>\n",
       "      <td>15823.37</td>\n",
       "      <td>0</td>\n",
       "    </tr>\n",
       "    <tr>\n",
       "      <th>6</th>\n",
       "      <td>57.0</td>\n",
       "      <td>431.64</td>\n",
       "      <td>20.0</td>\n",
       "      <td>3738.90</td>\n",
       "      <td>1</td>\n",
       "    </tr>\n",
       "    <tr>\n",
       "      <th>7</th>\n",
       "      <td>15.0</td>\n",
       "      <td>132.40</td>\n",
       "      <td>6.0</td>\n",
       "      <td>21911.60</td>\n",
       "      <td>0</td>\n",
       "    </tr>\n",
       "  </tbody>\n",
       "</table>\n",
       "</div>"
      ],
      "text/plain": [
       "   calls  minutes  messages   mb_used  is_ultra\n",
       "0   40.0   311.90      83.0  19915.42         0\n",
       "1   85.0   516.75      56.0  22696.96         0\n",
       "2   77.0   467.66      86.0  21060.45         0\n",
       "3  106.0   745.53      81.0   8437.39         1\n",
       "4   66.0   418.74       1.0  14502.75         0\n",
       "5   58.0   344.56      21.0  15823.37         0\n",
       "6   57.0   431.64      20.0   3738.90         1\n",
       "7   15.0   132.40       6.0  21911.60         0"
      ]
     },
     "metadata": {},
     "output_type": "display_data"
    },
    {
     "name": "stdout",
     "output_type": "stream",
     "text": [
      "\n",
      "<class 'pandas.core.frame.DataFrame'>\n",
      "RangeIndex: 3214 entries, 0 to 3213\n",
      "Data columns (total 5 columns):\n",
      " #   Column    Non-Null Count  Dtype  \n",
      "---  ------    --------------  -----  \n",
      " 0   calls     3214 non-null   float64\n",
      " 1   minutes   3214 non-null   float64\n",
      " 2   messages  3214 non-null   float64\n",
      " 3   mb_used   3214 non-null   float64\n",
      " 4   is_ultra  3214 non-null   int64  \n",
      "dtypes: float64(4), int64(1)\n",
      "memory usage: 125.7 KB\n"
     ]
    }
   ],
   "source": [
    "df = pd.read_csv('/datasets/users_behavior.csv')\n",
    "display(df.head(8))\n",
    "print()\n",
    "df.info()"
   ]
  },
  {
   "cell_type": "markdown",
   "metadata": {},
   "source": [
    "Se observa que el dataframe no contiene valores ausentes y que se compone de 5 columnas, de las cuales, la de principal interes es la columna 'is_ultra', la cual señala el plan actual contratado en el mes corriente. "
   ]
  },
  {
   "cell_type": "markdown",
   "metadata": {},
   "source": [
    "## Crear variables"
   ]
  },
  {
   "cell_type": "code",
   "execution_count": 5,
   "metadata": {},
   "outputs": [],
   "source": [
    "features = df.drop(['is_ultra'], axis=1)\n",
    "target = df['is_ultra']"
   ]
  },
  {
   "cell_type": "markdown",
   "metadata": {},
   "source": [
    "Se crean variables separadas para las caracteristicas y para el objetivo del modelo eliminando la columna 'is_ultra' del dataframe df. De este modo el modelo partira del conjunto de características para tratar de predecir el plan actualmente contratado."
   ]
  },
  {
   "cell_type": "markdown",
   "metadata": {},
   "source": [
    "## Segmentar los datos"
   ]
  },
  {
   "cell_type": "code",
   "execution_count": 6,
   "metadata": {},
   "outputs": [],
   "source": [
    "features_train, features_test, target_train, target_test = train_test_split(features, target, test_size=0.2, random_state=12345)\n",
    "\n",
    "features_train, features_valid, target_train, target_valid = train_test_split(features_train, target_train, test_size=0.25, random_state=12345)"
   ]
  },
  {
   "cell_type": "markdown",
   "metadata": {},
   "source": [
    "Debido a que solicita separar los datos fuente en tres grupos: entrenamiento, validación y prueba, se utiliza dos veces de forma consecutiva el método train_test_split ya que por cada aplicación del método unicamente se obtienen la segmentación en dos grupos. De esta forma inicialmente se segmento el grupo de entrenamiento y el de prueba, indicando que el grupo de prueba contendría 20% de los datos por lo que el conjunto de entrenamiento almacenaría el 80%. La segunda segmentación toma el conjunto de entrenamiento resultante de la primer segmentación y lo vuelve a segmentar, de tal forma que el 25% de ese grupo es asignado al conjunto de validación, esto debido a que ese 25% corresponde al 20% del conjunto de datos fuente original. Obteniendo así una proporción de: 20% conjunto de prueba, 20% conjunto de validación y 60% conjunto de entrenamiento con respecto al 100% de los datos fuente originales, mismo que fue lo señalado en las lecciones como lo recomendable en este tipo de casos."
   ]
  },
  {
   "cell_type": "markdown",
   "metadata": {},
   "source": [
    "## Crear modelo, entrenar, definir hiperparámetros y seleccionar el mejor modelo"
   ]
  },
  {
   "cell_type": "markdown",
   "metadata": {},
   "source": [
    "Se procede a crear dos modelos de clasificación, el árbol de decisión de clasificación y el bosque aleatorio de clasificación para comparar los modelos resultantes de Machine Learning. De esta forma se seleccionó al modelo que alcanzara la mayor exactitud. "
   ]
  },
  {
   "cell_type": "code",
   "execution_count": 7,
   "metadata": {
    "scrolled": false
   },
   "outputs": [
    {
     "name": "stdout",
     "output_type": "stream",
     "text": [
      "La exactitud para los n_estimators de 10 , depth= 1 es 0.7309486780715396\n",
      "La exactitud para los n_estimators de 10 , depth= 2 es 0.7636080870917574\n",
      "La exactitud para los n_estimators de 10 , depth= 3 es 0.7713841368584758\n",
      "La exactitud para los n_estimators de 10 , depth= 4 es 0.7776049766718507\n",
      "La exactitud para los n_estimators de 10 , depth= 5 es 0.7776049766718507\n",
      "La exactitud para los n_estimators de 10 , depth= 6 es 0.7853810264385692\n",
      "La exactitud para los n_estimators de 10 , depth= 7 es 0.7869362363919129\n",
      "La exactitud para los n_estimators de 10 , depth= 8 es 0.7853810264385692\n",
      "La exactitud para los n_estimators de 10 , depth= 9 es 0.7947122861586314\n",
      "La exactitud para los n_estimators de 10 , depth= 10 es 0.7900466562986003\n",
      "La exactitud para los n_estimators de 20 , depth= 1 es 0.7325038880248833\n",
      "La exactitud para los n_estimators de 20 , depth= 2 es 0.7620528771384136\n",
      "La exactitud para los n_estimators de 20 , depth= 3 es 0.7713841368584758\n",
      "La exactitud para los n_estimators de 20 , depth= 4 es 0.776049766718507\n",
      "La exactitud para los n_estimators de 20 , depth= 5 es 0.7791601866251944\n",
      "La exactitud para los n_estimators de 20 , depth= 6 es 0.7853810264385692\n",
      "La exactitud para los n_estimators de 20 , depth= 7 es 0.7853810264385692\n",
      "La exactitud para los n_estimators de 20 , depth= 8 es 0.7869362363919129\n",
      "La exactitud para los n_estimators de 20 , depth= 9 es 0.7916018662519441\n",
      "La exactitud para los n_estimators de 20 , depth= 10 es 0.7962674961119751\n",
      "La exactitud para los n_estimators de 30 , depth= 1 es 0.7387247278382582\n",
      "La exactitud para los n_estimators de 30 , depth= 2 es 0.76049766718507\n",
      "La exactitud para los n_estimators de 30 , depth= 3 es 0.7698289269051322\n",
      "La exactitud para los n_estimators de 30 , depth= 4 es 0.776049766718507\n",
      "La exactitud para los n_estimators de 30 , depth= 5 es 0.7791601866251944\n",
      "La exactitud para los n_estimators de 30 , depth= 6 es 0.7838258164852255\n",
      "La exactitud para los n_estimators de 30 , depth= 7 es 0.7853810264385692\n",
      "La exactitud para los n_estimators de 30 , depth= 8 es 0.7838258164852255\n",
      "La exactitud para los n_estimators de 30 , depth= 9 es 0.7916018662519441\n",
      "La exactitud para los n_estimators de 30 , depth= 10 es 0.7916018662519441\n",
      "La exactitud para los n_estimators de 40 , depth= 1 es 0.7387247278382582\n",
      "La exactitud para los n_estimators de 40 , depth= 2 es 0.7620528771384136\n",
      "La exactitud para los n_estimators de 40 , depth= 3 es 0.7713841368584758\n",
      "La exactitud para los n_estimators de 40 , depth= 4 es 0.7791601866251944\n",
      "La exactitud para los n_estimators de 40 , depth= 5 es 0.7807153965785381\n",
      "La exactitud para los n_estimators de 40 , depth= 6 es 0.7807153965785381\n",
      "La exactitud para los n_estimators de 40 , depth= 7 es 0.7838258164852255\n",
      "La exactitud para los n_estimators de 40 , depth= 8 es 0.7869362363919129\n",
      "La exactitud para los n_estimators de 40 , depth= 9 es 0.7900466562986003\n",
      "La exactitud para los n_estimators de 40 , depth= 10 es 0.7962674961119751\n",
      "La exactitud para los n_estimators de 50 , depth= 1 es 0.7465007776049767\n",
      "La exactitud para los n_estimators de 50 , depth= 2 es 0.76049766718507\n",
      "La exactitud para los n_estimators de 50 , depth= 3 es 0.7667185069984448\n",
      "La exactitud para los n_estimators de 50 , depth= 4 es 0.7744945567651633\n",
      "La exactitud para los n_estimators de 50 , depth= 5 es 0.7791601866251944\n",
      "La exactitud para los n_estimators de 50 , depth= 6 es 0.7807153965785381\n",
      "La exactitud para los n_estimators de 50 , depth= 7 es 0.7869362363919129\n",
      "La exactitud para los n_estimators de 50 , depth= 8 es 0.7869362363919129\n",
      "La exactitud para los n_estimators de 50 , depth= 9 es 0.7884914463452566\n",
      "La exactitud para los n_estimators de 50 , depth= 10 es 0.7978227060653188\n",
      "\n",
      "La exactitud del mejor modelo de bosque aleatorio de clasificación en el conjunto de validación: 0.7978227060653188 , n_estimators : 50 , best_depth : 10\n"
     ]
    }
   ],
   "source": [
    "# Crear bosque\n",
    "best_score = 0\n",
    "best_est = 0\n",
    "best_depth = 0\n",
    "\n",
    "for est in range(10, 51, 10):\n",
    "    for depth in range(1, 11):\n",
    "        model = RandomForestClassifier(random_state = 12345, n_estimators= est, max_depth = depth)\n",
    "        model.fit(features_train, target_train)\n",
    "        score = model.score(features_valid, target_valid)\n",
    "        print(\"La exactitud para los n_estimators de\", est, \", depth=\", depth, \"es\", score)\n",
    "        if score > best_score:\n",
    "            best_score = score\n",
    "            best_est = est\n",
    "            best_depth = depth\n",
    "print()\n",
    "print('La exactitud del mejor modelo de bosque aleatorio de clasificación en el conjunto de validación:', best_score, ', n_estimators :', best_est, ', best_depth :', best_depth)"
   ]
  },
  {
   "cell_type": "code",
   "execution_count": 8,
   "metadata": {},
   "outputs": [
    {
     "name": "stdout",
     "output_type": "stream",
     "text": [
      "La exactitud para depth= 1 es 0.7387247278382582\n",
      "La exactitud para depth= 2 es 0.7573872472783826\n",
      "La exactitud para depth= 3 es 0.7651632970451011\n",
      "La exactitud para depth= 4 es 0.7636080870917574\n",
      "La exactitud para depth= 5 es 0.7589424572317263\n",
      "La exactitud para depth= 6 es 0.7573872472783826\n",
      "La exactitud para depth= 7 es 0.7744945567651633\n",
      "La exactitud para depth= 8 es 0.7667185069984448\n",
      "La exactitud para depth= 9 es 0.7620528771384136\n",
      "La exactitud para depth= 10 es 0.7713841368584758\n",
      "La exactitud para depth= 11 es 0.7589424572317263\n",
      "La exactitud para depth= 12 es 0.7558320373250389\n",
      "La exactitud para depth= 13 es 0.749611197511664\n",
      "La exactitud para depth= 14 es 0.7573872472783826\n",
      "La exactitud para depth= 15 es 0.7527216174183515\n",
      "La exactitud para depth= 16 es 0.749611197511664\n",
      "La exactitud para depth= 17 es 0.7387247278382582\n",
      "La exactitud para depth= 18 es 0.7418351477449455\n",
      "La exactitud para depth= 19 es 0.7356143079315708\n",
      "La exactitud para depth= 20 es 0.7293934681181959\n",
      "La exactitud para depth= 21 es 0.7325038880248833\n",
      "La exactitud para depth= 22 es 0.71850699844479\n",
      "La exactitud para depth= 23 es 0.7293934681181959\n",
      "La exactitud para depth= 24 es 0.7262830482115086\n",
      "La exactitud para depth= 25 es 0.7293934681181959\n",
      "La exactitud para depth= 26 es 0.7231726283048211\n",
      "La exactitud para depth= 27 es 0.7231726283048211\n",
      "La exactitud para depth= 28 es 0.7122861586314152\n",
      "La exactitud para depth= 29 es 0.7122861586314152\n",
      "La exactitud para depth= 30 es 0.7122861586314152\n",
      "La exactitud para depth= 31 es 0.7122861586314152\n",
      "La exactitud para depth= 32 es 0.7122861586314152\n",
      "La exactitud para depth= 33 es 0.7122861586314152\n",
      "La exactitud para depth= 34 es 0.7122861586314152\n",
      "La exactitud para depth= 35 es 0.7122861586314152\n",
      "La exactitud para depth= 36 es 0.7122861586314152\n",
      "La exactitud para depth= 37 es 0.7122861586314152\n",
      "La exactitud para depth= 38 es 0.7122861586314152\n",
      "La exactitud para depth= 39 es 0.7122861586314152\n",
      "La exactitud para depth= 40 es 0.7122861586314152\n",
      "La exactitud para depth= 41 es 0.7122861586314152\n",
      "La exactitud para depth= 42 es 0.7122861586314152\n",
      "La exactitud para depth= 43 es 0.7122861586314152\n",
      "La exactitud para depth= 44 es 0.7122861586314152\n",
      "La exactitud para depth= 45 es 0.7122861586314152\n",
      "La exactitud para depth= 46 es 0.7122861586314152\n",
      "La exactitud para depth= 47 es 0.7122861586314152\n",
      "La exactitud para depth= 48 es 0.7122861586314152\n",
      "La exactitud para depth= 49 es 0.7122861586314152\n",
      "La exactitud para depth= 50 es 0.7122861586314152\n",
      "\n",
      "La exactitud del mejor modelo de árbol de decisión de clasificación en el conjunto de validación: 0.7744945567651633 , best_depth_tree : 7\n"
     ]
    }
   ],
   "source": [
    "# Crear árbol\n",
    "\n",
    "best_score_tree = 0\n",
    "best_depth_tree = 0\n",
    "\n",
    "for depth_tree in range(1, 51):\n",
    "    model_tree = DecisionTreeClassifier(random_state = 12345, max_depth = depth_tree)\n",
    "    model_tree.fit(features_train, target_train)\n",
    "    score_tree = model_tree.score(features_valid, target_valid)\n",
    "    print(\"La exactitud para depth=\", depth_tree, \"es\", score_tree)\n",
    "    if score_tree > best_score_tree:\n",
    "        best_score_tree = score_tree\n",
    "        best_depth_tree = depth_tree\n",
    "print()\n",
    "print('La exactitud del mejor modelo de árbol de decisión de clasificación en el conjunto de validación:', best_score_tree, ', best_depth_tree :', best_depth_tree)"
   ]
  },
  {
   "cell_type": "markdown",
   "metadata": {},
   "source": [
    "Comparando los resultados de ambos modelos se observa que en ambos casos la exactitud más alta alcanzada es superior al umbral de 0.75 de exactitud, sin embargo, el modelo de bosque aleatorio de clasificación tuvo una exactitud mayor con un valor de 0.7978 con el conjunto del dataset de validación mientras que el árbol de decisión de clasificación tuvo un máximo de exactitud de 0.7745. Esto es lo esperado ya que se menciona que el bosque aleatorio de clasificación es más exacto que el árbol, sin embargo requiere un mayor poder de computo. Algo que podemos observar es que para el caso del modelo de árbol, el máximo de exactitud se obtuvo con una profundidad de 7 nodos, y a partir de este punto comienza a disminuir considerablemente, lo cual podría deberse al sobreajuste que afecta a este tipo de modelos.\n",
    "Con lo anteriormente mencionado se observó que utilizando un intervalo de estimadores de 0 a 50 que incrementan de 10 en 10 y a la vez abarcando una profundidad de árbol de decisión de 1 a 10 nodos, la mejor combinación observada es para el modelo del bosque aleatorio es aquella que utilizó 50 árboles con una profundidad de 10 en sus copas. A groso modo podemos observar como la exactitud de los modelos incrementa a la par que la profundidad de los modelos, al igual que también incrementa la exactitud al incrmentar el valor de estimadores."
   ]
  },
  {
   "cell_type": "markdown",
   "metadata": {},
   "source": [
    "## Usando el modelo sobre el conjunto de prueba"
   ]
  },
  {
   "cell_type": "markdown",
   "metadata": {},
   "source": [
    "Utilizando el modelo de bosque aleatorio de clasificación se utiliza el modelo sobre el conjunto de datos de prueba."
   ]
  },
  {
   "cell_type": "code",
   "execution_count": 9,
   "metadata": {},
   "outputs": [
    {
     "name": "stdout",
     "output_type": "stream",
     "text": [
      "La exactitud de final_model en el conjunto de prueba es: 0.7993779160186625\n"
     ]
    }
   ],
   "source": [
    "final_model = RandomForestClassifier(random_state=12345, n_estimators=50, max_depth=10) # inicializa el constructor para el modelo que tenía el mejor valor de RECM\n",
    "final_model.fit(features_train, target_train) # entrenar el modelo en el conjunto de entrenamiento\n",
    "\n",
    "predictions = final_model.predict(features_test)\n",
    "score_final = final_model.score(features_test, target_test)\n",
    "print('La exactitud de final_model en el conjunto de prueba es:', score_final )"
   ]
  },
  {
   "cell_type": "markdown",
   "metadata": {},
   "source": [
    "## Conclusion"
   ]
  },
  {
   "cell_type": "markdown",
   "metadata": {},
   "source": [
    "Al aplicar el modelo final sobre el conjunto de datos de prueba se obtuvo una exactitud de 0.799 misma que es superior al umbral de 0.75 señalado como requerimiento para aceptar el modelo, por lo que se considera satisfactorio."
   ]
  }
 ],
 "metadata": {
  "ExecuteTimeLog": [
   {
    "duration": 309,
    "start_time": "2024-05-19T00:27:31.388Z"
   },
   {
    "duration": 462,
    "start_time": "2024-05-19T00:27:39.646Z"
   },
   {
    "duration": 1081,
    "start_time": "2024-05-19T00:27:40.113Z"
   },
   {
    "duration": 40,
    "start_time": "2024-05-19T00:28:35.979Z"
   },
   {
    "duration": 28,
    "start_time": "2024-05-19T00:28:52.544Z"
   },
   {
    "duration": 477,
    "start_time": "2024-05-19T21:22:59.719Z"
   },
   {
    "duration": 64,
    "start_time": "2024-05-19T21:23:00.200Z"
   },
   {
    "duration": 4,
    "start_time": "2024-05-19T21:23:00.267Z"
   },
   {
    "duration": 52,
    "start_time": "2024-05-19T21:23:25.764Z"
   },
   {
    "duration": 1510,
    "start_time": "2024-05-19T21:56:06.342Z"
   },
   {
    "duration": 0,
    "start_time": "2024-05-19T21:56:07.855Z"
   },
   {
    "duration": 0,
    "start_time": "2024-05-19T21:56:07.857Z"
   },
   {
    "duration": 0,
    "start_time": "2024-05-19T21:56:07.858Z"
   },
   {
    "duration": 0,
    "start_time": "2024-05-19T21:56:07.861Z"
   },
   {
    "duration": 1198,
    "start_time": "2024-05-19T21:57:06.337Z"
   },
   {
    "duration": 39,
    "start_time": "2024-05-19T21:57:07.539Z"
   },
   {
    "duration": 6,
    "start_time": "2024-05-19T21:57:07.581Z"
   },
   {
    "duration": 1787,
    "start_time": "2024-05-19T21:57:07.590Z"
   },
   {
    "duration": 0,
    "start_time": "2024-05-19T21:57:09.380Z"
   },
   {
    "duration": 4,
    "start_time": "2024-05-19T21:58:47.720Z"
   },
   {
    "duration": 30,
    "start_time": "2024-05-19T21:58:48.237Z"
   },
   {
    "duration": 6,
    "start_time": "2024-05-19T21:58:49.130Z"
   },
   {
    "duration": 22,
    "start_time": "2024-05-19T21:58:49.484Z"
   },
   {
    "duration": 13,
    "start_time": "2024-05-19T21:59:02.950Z"
   },
   {
    "duration": 77,
    "start_time": "2024-05-19T21:59:56.463Z"
   },
   {
    "duration": 1183,
    "start_time": "2024-05-19T22:00:58.128Z"
   },
   {
    "duration": 41,
    "start_time": "2024-05-19T22:00:59.314Z"
   },
   {
    "duration": 8,
    "start_time": "2024-05-19T22:00:59.357Z"
   },
   {
    "duration": 7,
    "start_time": "2024-05-19T22:00:59.369Z"
   },
   {
    "duration": 8,
    "start_time": "2024-05-19T22:00:59.379Z"
   },
   {
    "duration": 8,
    "start_time": "2024-05-19T22:01:40.031Z"
   },
   {
    "duration": 5575,
    "start_time": "2024-05-19T22:03:33.550Z"
   },
   {
    "duration": 5553,
    "start_time": "2024-05-19T22:04:04.126Z"
   },
   {
    "duration": 1153,
    "start_time": "2024-05-19T22:04:36.385Z"
   },
   {
    "duration": 38,
    "start_time": "2024-05-19T22:04:37.542Z"
   },
   {
    "duration": 7,
    "start_time": "2024-05-19T22:04:37.583Z"
   },
   {
    "duration": 10,
    "start_time": "2024-05-19T22:04:37.592Z"
   },
   {
    "duration": 5565,
    "start_time": "2024-05-19T22:04:37.633Z"
   },
   {
    "duration": 1187,
    "start_time": "2024-05-19T22:06:01.325Z"
   },
   {
    "duration": 48,
    "start_time": "2024-05-19T22:06:02.515Z"
   },
   {
    "duration": 7,
    "start_time": "2024-05-19T22:06:02.566Z"
   },
   {
    "duration": 6,
    "start_time": "2024-05-19T22:06:02.579Z"
   },
   {
    "duration": 5749,
    "start_time": "2024-05-19T22:06:02.589Z"
   },
   {
    "duration": 1131,
    "start_time": "2024-05-19T22:07:57.290Z"
   },
   {
    "duration": 41,
    "start_time": "2024-05-19T22:07:58.425Z"
   },
   {
    "duration": 7,
    "start_time": "2024-05-19T22:07:58.470Z"
   },
   {
    "duration": 6,
    "start_time": "2024-05-19T22:07:58.481Z"
   },
   {
    "duration": 5723,
    "start_time": "2024-05-19T22:07:58.491Z"
   },
   {
    "duration": 1165,
    "start_time": "2024-05-19T22:45:49.544Z"
   },
   {
    "duration": 41,
    "start_time": "2024-05-19T22:45:50.712Z"
   },
   {
    "duration": 5,
    "start_time": "2024-05-19T22:45:50.755Z"
   },
   {
    "duration": 9,
    "start_time": "2024-05-19T22:45:50.765Z"
   },
   {
    "duration": 4,
    "start_time": "2024-05-19T22:45:50.777Z"
   },
   {
    "duration": 5086,
    "start_time": "2024-05-19T22:45:50.784Z"
   },
   {
    "duration": 1136,
    "start_time": "2024-05-19T22:57:40.590Z"
   },
   {
    "duration": 36,
    "start_time": "2024-05-19T22:57:41.734Z"
   },
   {
    "duration": 5,
    "start_time": "2024-05-19T22:57:41.773Z"
   },
   {
    "duration": 9,
    "start_time": "2024-05-19T22:57:41.782Z"
   },
   {
    "duration": 3,
    "start_time": "2024-05-19T22:57:41.794Z"
   },
   {
    "duration": 5000,
    "start_time": "2024-05-19T22:57:41.836Z"
   },
   {
    "duration": 424,
    "start_time": "2024-05-19T22:57:46.839Z"
   },
   {
    "duration": 1145,
    "start_time": "2024-05-19T22:58:08.964Z"
   },
   {
    "duration": 44,
    "start_time": "2024-05-19T22:58:10.113Z"
   },
   {
    "duration": 5,
    "start_time": "2024-05-19T22:58:10.161Z"
   },
   {
    "duration": 9,
    "start_time": "2024-05-19T22:58:10.171Z"
   },
   {
    "duration": 5,
    "start_time": "2024-05-19T22:58:10.183Z"
   },
   {
    "duration": 5062,
    "start_time": "2024-05-19T22:58:10.191Z"
   },
   {
    "duration": 242,
    "start_time": "2024-05-19T22:58:15.256Z"
   },
   {
    "duration": 227,
    "start_time": "2024-05-19T22:58:37.193Z"
   },
   {
    "duration": 1165,
    "start_time": "2024-05-19T23:30:28.787Z"
   },
   {
    "duration": 37,
    "start_time": "2024-05-19T23:30:29.955Z"
   },
   {
    "duration": 5,
    "start_time": "2024-05-19T23:30:29.995Z"
   },
   {
    "duration": 33,
    "start_time": "2024-05-19T23:30:30.005Z"
   },
   {
    "duration": 5031,
    "start_time": "2024-05-19T23:30:30.041Z"
   },
   {
    "duration": 238,
    "start_time": "2024-05-19T23:30:35.074Z"
   },
   {
    "duration": 1194,
    "start_time": "2024-05-19T23:32:45.102Z"
   },
   {
    "duration": 47,
    "start_time": "2024-05-19T23:32:46.299Z"
   },
   {
    "duration": 5,
    "start_time": "2024-05-19T23:32:46.348Z"
   },
   {
    "duration": 9,
    "start_time": "2024-05-19T23:32:46.357Z"
   },
   {
    "duration": 5019,
    "start_time": "2024-05-19T23:32:46.369Z"
   },
   {
    "duration": 243,
    "start_time": "2024-05-19T23:32:51.391Z"
   },
   {
    "duration": 1145,
    "start_time": "2024-05-19T23:33:21.162Z"
   },
   {
    "duration": 45,
    "start_time": "2024-05-19T23:33:22.311Z"
   },
   {
    "duration": 5,
    "start_time": "2024-05-19T23:33:22.359Z"
   },
   {
    "duration": 9,
    "start_time": "2024-05-19T23:33:22.368Z"
   },
   {
    "duration": 5073,
    "start_time": "2024-05-19T23:33:22.379Z"
   },
   {
    "duration": 240,
    "start_time": "2024-05-19T23:33:27.455Z"
   },
   {
    "duration": 3,
    "start_time": "2024-05-19T23:34:30.675Z"
   },
   {
    "duration": 29,
    "start_time": "2024-05-19T23:34:32.217Z"
   },
   {
    "duration": 4,
    "start_time": "2024-05-19T23:34:33.911Z"
   },
   {
    "duration": 9,
    "start_time": "2024-05-19T23:34:35.494Z"
   },
   {
    "duration": 4962,
    "start_time": "2024-05-19T23:34:36.257Z"
   },
   {
    "duration": 238,
    "start_time": "2024-05-19T23:34:41.223Z"
   },
   {
    "duration": 1180,
    "start_time": "2024-05-19T23:39:02.035Z"
   },
   {
    "duration": 44,
    "start_time": "2024-05-19T23:39:03.218Z"
   },
   {
    "duration": 5,
    "start_time": "2024-05-19T23:39:03.266Z"
   },
   {
    "duration": 9,
    "start_time": "2024-05-19T23:39:03.274Z"
   },
   {
    "duration": 5081,
    "start_time": "2024-05-19T23:39:03.286Z"
   },
   {
    "duration": 241,
    "start_time": "2024-05-19T23:39:08.370Z"
   },
   {
    "duration": 0,
    "start_time": "2024-05-25T19:06:14.090Z"
   },
   {
    "duration": 0,
    "start_time": "2024-05-25T19:06:14.092Z"
   },
   {
    "duration": 1,
    "start_time": "2024-05-25T19:06:14.094Z"
   },
   {
    "duration": 1,
    "start_time": "2024-05-25T19:06:14.129Z"
   },
   {
    "duration": 0,
    "start_time": "2024-05-25T19:06:14.132Z"
   },
   {
    "duration": 0,
    "start_time": "2024-05-25T19:06:14.134Z"
   },
   {
    "duration": 0,
    "start_time": "2024-05-25T19:06:14.136Z"
   },
   {
    "duration": 1692,
    "start_time": "2024-05-25T19:07:07.407Z"
   },
   {
    "duration": 0,
    "start_time": "2024-05-25T19:07:09.103Z"
   },
   {
    "duration": 0,
    "start_time": "2024-05-25T19:07:09.104Z"
   },
   {
    "duration": 0,
    "start_time": "2024-05-25T19:07:09.106Z"
   },
   {
    "duration": 0,
    "start_time": "2024-05-25T19:07:09.108Z"
   },
   {
    "duration": 0,
    "start_time": "2024-05-25T19:07:09.110Z"
   },
   {
    "duration": 0,
    "start_time": "2024-05-25T19:07:09.112Z"
   },
   {
    "duration": 1475,
    "start_time": "2024-05-25T19:07:31.156Z"
   },
   {
    "duration": 66,
    "start_time": "2024-05-25T19:07:32.642Z"
   },
   {
    "duration": 13,
    "start_time": "2024-05-25T19:07:32.716Z"
   },
   {
    "duration": 17,
    "start_time": "2024-05-25T19:07:32.734Z"
   },
   {
    "duration": 5893,
    "start_time": "2024-05-25T19:07:32.758Z"
   },
   {
    "duration": 114,
    "start_time": "2024-05-25T19:07:38.656Z"
   },
   {
    "duration": 263,
    "start_time": "2024-05-25T19:07:38.773Z"
   },
   {
    "duration": 1348,
    "start_time": "2024-05-25T19:09:45.915Z"
   },
   {
    "duration": 46,
    "start_time": "2024-05-25T19:09:47.266Z"
   },
   {
    "duration": 15,
    "start_time": "2024-05-25T19:09:47.316Z"
   },
   {
    "duration": 11,
    "start_time": "2024-05-25T19:09:47.337Z"
   },
   {
    "duration": 5603,
    "start_time": "2024-05-25T19:09:47.354Z"
   },
   {
    "duration": 128,
    "start_time": "2024-05-25T19:09:52.960Z"
   },
   {
    "duration": 276,
    "start_time": "2024-05-25T19:09:53.092Z"
   },
   {
    "duration": 1328,
    "start_time": "2024-05-25T19:13:13.030Z"
   },
   {
    "duration": 41,
    "start_time": "2024-05-25T19:13:14.363Z"
   },
   {
    "duration": 6,
    "start_time": "2024-05-25T19:13:14.430Z"
   },
   {
    "duration": 11,
    "start_time": "2024-05-25T19:13:14.440Z"
   },
   {
    "duration": 5605,
    "start_time": "2024-05-25T19:13:14.455Z"
   },
   {
    "duration": 118,
    "start_time": "2024-05-25T19:13:20.064Z"
   },
   {
    "duration": 267,
    "start_time": "2024-05-25T19:13:20.186Z"
   },
   {
    "duration": 101,
    "start_time": "2024-05-25T19:15:40.687Z"
   },
   {
    "duration": 1295,
    "start_time": "2024-05-25T19:16:16.135Z"
   },
   {
    "duration": 50,
    "start_time": "2024-05-25T19:16:17.434Z"
   },
   {
    "duration": 5,
    "start_time": "2024-05-25T19:16:17.493Z"
   },
   {
    "duration": 31,
    "start_time": "2024-05-25T19:16:17.503Z"
   },
   {
    "duration": 5608,
    "start_time": "2024-05-25T19:16:17.537Z"
   },
   {
    "duration": 124,
    "start_time": "2024-05-25T19:16:23.149Z"
   },
   {
    "duration": 273,
    "start_time": "2024-05-25T19:16:23.277Z"
   },
   {
    "duration": 5,
    "start_time": "2024-05-25T19:18:31.304Z"
   },
   {
    "duration": 51,
    "start_time": "2024-05-25T19:18:31.312Z"
   },
   {
    "duration": 9,
    "start_time": "2024-05-25T19:18:31.367Z"
   },
   {
    "duration": 11,
    "start_time": "2024-05-25T19:18:31.380Z"
   },
   {
    "duration": 5690,
    "start_time": "2024-05-25T19:18:31.396Z"
   },
   {
    "duration": 803,
    "start_time": "2024-05-25T19:18:37.089Z"
   },
   {
    "duration": 260,
    "start_time": "2024-05-25T19:18:37.895Z"
   },
   {
    "duration": 1333,
    "start_time": "2024-05-25T19:21:55.606Z"
   },
   {
    "duration": 41,
    "start_time": "2024-05-25T19:21:56.943Z"
   },
   {
    "duration": 4,
    "start_time": "2024-05-25T19:21:56.990Z"
   },
   {
    "duration": 33,
    "start_time": "2024-05-25T19:21:56.999Z"
   },
   {
    "duration": 5529,
    "start_time": "2024-05-25T19:21:57.035Z"
   },
   {
    "duration": 791,
    "start_time": "2024-05-25T19:22:02.568Z"
   },
   {
    "duration": 281,
    "start_time": "2024-05-25T19:22:03.363Z"
   },
   {
    "duration": 1211,
    "start_time": "2024-06-01T17:27:43.633Z"
   },
   {
    "duration": 44,
    "start_time": "2024-06-01T17:27:55.567Z"
   },
   {
    "duration": 32,
    "start_time": "2024-06-01T17:28:26.121Z"
   },
   {
    "duration": 31,
    "start_time": "2024-06-01T17:29:32.050Z"
   },
   {
    "duration": 4,
    "start_time": "2024-06-01T17:29:44.873Z"
   },
   {
    "duration": 11,
    "start_time": "2024-06-01T17:30:58.269Z"
   },
   {
    "duration": 5209,
    "start_time": "2024-06-01T17:33:04.098Z"
   },
   {
    "duration": 698,
    "start_time": "2024-06-01T17:34:09.074Z"
   },
   {
    "duration": 227,
    "start_time": "2024-06-01T17:35:03.539Z"
   }
  ],
  "kernelspec": {
   "display_name": "Python 3 (ipykernel)",
   "language": "python",
   "name": "python3"
  },
  "language_info": {
   "codemirror_mode": {
    "name": "ipython",
    "version": 3
   },
   "file_extension": ".py",
   "mimetype": "text/x-python",
   "name": "python",
   "nbconvert_exporter": "python",
   "pygments_lexer": "ipython3",
   "version": "3.9.19"
  },
  "toc": {
   "base_numbering": 1,
   "nav_menu": {},
   "number_sections": true,
   "sideBar": true,
   "skip_h1_title": true,
   "title_cell": "Table of Contents",
   "title_sidebar": "Contents",
   "toc_cell": false,
   "toc_position": {
    "height": "calc(100% - 180px)",
    "left": "10px",
    "top": "150px",
    "width": "281px"
   },
   "toc_section_display": true,
   "toc_window_display": false
  }
 },
 "nbformat": 4,
 "nbformat_minor": 2
}
